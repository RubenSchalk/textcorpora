{
 "cells": [
  {
   "cell_type": "markdown",
   "id": "c02e4061",
   "metadata": {},
   "source": [
    "<center><b><h2>  Where were revolutions located between 1840 and 1860, based on articles titles from Dutch newspapers?<\\center><\\b>\n",
    "\n"
   ]
  },
  {
   "cell_type": "markdown",
   "id": "746f6522",
   "metadata": {},
   "source": [
    "---------------------------------------------------------------------------------------------------------------------------\n",
    "The dataset was constructed querying Delpher on the keyword 'revolutie' for the period 1840-1860. Since Delpher has no bulk download option, we've instead used [I-Analyzer](https://ianalyzer.hum.uu.nl) (developed by the [DH Lab at Utrecht University](https://dig.hum.uu.nl/)). This tool allows to query and download Delpher search results for this period."
   ]
  },
  {
   "cell_type": "markdown",
   "id": "d217c233",
   "metadata": {},
   "source": [
    "To plot the locations mentioned in the article titles several steps are needed: Named Entity Recognition, extracting the locations, geocoding these, and obtaining a map to plot them. Here we've used (mainly) R for this, but Python would work as well. \n",
    "\n",
    "Apart from having R installed, you'll also need a python executable with [spaCy](https://spacy.io/usage) installed, and the corresponding [Dutch language model](https://spacy.io/models/nl#nl_core_news_sm). If you opt for a Google Map you'll also need a [Google API key for its Maps platform](https://developers.google.com/maps/faq). This is free as long as you don't exceed $200 in API calls a month (which usually does't happen).\n",
    "\n",
    "---------------------------------------------------------------------------------------------------------------------------"
   ]
  },
  {
   "cell_type": "markdown",
   "id": "9a4d723d",
   "metadata": {},
   "source": [
    "First we load the required libraries"
   ]
  },
  {
   "cell_type": "code",
   "execution_count": 32,
   "id": "3af47fc7",
   "metadata": {},
   "outputs": [],
   "source": [
    "library(data.table)\n",
    "library(spacyr)\n",
    "library(maps)\n",
    "library(rasterVis)\n",
    "library(raster)\n",
    "library(ggmap)\n",
    "library(ggplot2)\n"
   ]
  },
  {
   "cell_type": "markdown",
   "id": "52a5489f",
   "metadata": {},
   "source": [
    "Load the dataset (currently locally stored)"
   ]
  },
  {
   "cell_type": "code",
   "execution_count": 3,
   "id": "0333f247",
   "metadata": {},
   "outputs": [],
   "source": [
    "revol <- fread(\"C:\\\\Users\\\\Schal107\\\\Documents\\\\UBU\\\\Team DH\\\\Delpher\\\\dutchnewspapers-public_query=revolutie_date=1840-01-01 1860-12-31.csv\")\n",
    "setDT(revol)"
   ]
  },
  {
   "cell_type": "markdown",
   "id": "11d06707",
   "metadata": {},
   "source": [
    "Inspect the first row of data and the column names. You'll see that it's long because the content of the article is still included. We will not work with that now, since many article_titles already mention a placename. In a next step we could include article content, of course, and use the same workflow as below."
   ]
  },
  {
   "cell_type": "code",
   "execution_count": 35,
   "id": "0e2323ea",
   "metadata": {
    "scrolled": true
   },
   "outputs": [
    {
     "data": {
      "text/html": [
       "<table>\n",
       "<thead><tr><th scope=col>date</th><th scope=col>issue_number</th><th scope=col>category</th><th scope=col>circulation</th><th scope=col>temporal</th><th scope=col>article_title</th><th scope=col>content</th><th scope=col>url</th><th scope=col>id</th><th scope=col>language</th><th scope=col>newspaper_title</th><th scope=col>ocr</th><th scope=col>pub_place</th><th scope=col>source</th></tr></thead>\n",
       "<tbody>\n",
       "\t<tr><td>1851-12-30                                                                                                                                                                                                                                                                                                                                                                                                                                                                                                                                                                                                                                                                                                                                                                                                                                                                                                                                                                                                                                                                                                                                                                                                                                                                                                                                                                                                                                                                                                                        </td><td>106                                                                                                                                                                                                                                                                                                                                                                                                                                                                                                                                                                                                                                                                                                                                                                                                                                                                                                                                                                                                                                                                                                                                                                                                                                                                                                                                                                                                                                                                                                                               </td><td>artikel                                                                                                                                                                                                                                                                                                                                                                                                                                                                                                                                                                                                                                                                                                                                                                                                                                                                                                                                                                                                                                                                                                                                                                                                                                                                                                                                                                                                                                                                                                                           </td><td>Verenigde Staten                                                                                                                                                                                                                                                                                                                                                                                                                                                                                                                                                                                                                                                                                                                                                                                                                                                                                                                                                                                                                                                                                                                                                                                                                                                                                                                                                                                                                                                                                                                  </td><td>Dag                                                                                                                                                                                                                                                                                                                                                                                                                                                                                                                                                                                                                                                                                                                                                                                                                                                                                                                                                                                                                                                                                                                                                                                                                                                                                                                                                                                                                                                                                                                               </td><td>REVOLUTIE IN FRANKERIJK                                                                                                                                                                                                                                                                                                                                                                                                                                                                                                                                                                                                                                                                                                                                                                                                                                                                                                                                                                                                                                                                                                                                                                                                                                                                                                                                                                                                                                                                                                           </td><td>Met de stoomboot Europa werd over eenige j| dagen liet berigt te New-York aangebragt, dat;' President Louis Napoleon\"\" de Wetgevende Iva-j. raer van Frankrijk lieeft uiteen gejaagd en president wensebt te worden voor den tijd van 10 ja- j: ren. In deze maand nog moesten de nieuwe al- j gemeene verkiezingen plaats grijpen. Er heeft iwederom bloed in de straten van Parijs gestroomd i cn de hoofdstad werd in staat van beleg verklaard, j Op onderscheidene plaatsen werden barricaden opgeworpen en op verschillende punten hevig gevochten. Twee leden der wetgevende vergadering zijn bij de barricaden gesneuveld, terwijl anderen gevangen zijn of bewaakt worden. President Napoleos beeft openlijk de teugels des be- j winds in handen genomen, en heeft het oog op de , pnpularitiet eener algemeene verkiezings-wet en : den sterken arm der militairen om hem te onder- â–  steunen. Dit zal ongetwijfeld den aanvang eener ; revolutie zijn, verschrikkelijker in haren aard, geweldiger in haren invloed en gewigtiger in hare ] uitwerkingen, dan eene revolutie welke sedert &lt; menige eeuw over Europa gewaaid heeft Aan- ( vankelijk schijnt Napoleon wel te slagen, echter kan de zege van het despotisme slechts van korten ; ( duur zijn. Frankrijk blijft niet lang in revolutie,', en het tegenwoordige is slechts een oproer, welke do teekenen der tijden ons zeggen te moeten voortduren tot dat Europa verlost, herboren en bevrijd is van het juk van dwingelandij en ver- ] drukking ! ,</td><td>http://resolver.kb.nl/resolve?urn=ddd:011021468:mpeg21:a0007                                                                                                                                                                                                                                                                                                                                                                                                                                                                                                                                                                                                                                                                                                                                                                                                                                                                                                                                                                                                                                                                                                                                                                                                                                                                                                                                                                                                                                                                      </td><td>ddd:011021468:mpeg21:a0007                                                                                                                                                                                                                                                                                                                                                                                                                                                                                                                                                                                                                                                                                                                                                                                                                                                                                                                                                                                                                                                                                                                                                                                                                                                                                                                                                                                                                                                                                                        </td><td>nl                                                                                                                                                                                                                                                                                                                                                                                                                                                                                                                                                                                                                                                                                                                                                                                                                                                                                                                                                                                                                                                                                                                                                                                                                                                                                                                                                                                                                                                                                                                                </td><td>De Sheboygan Nieuwsbode                                                                                                                                                                                                                                                                                                                                                                                                                                                                                                                                                                                                                                                                                                                                                                                                                                                                                                                                                                                                                                                                                                                                                                                                                                                                                                                                                                                                                                                                                                           </td><td>79.5                                                                                                                                                                                                                                                                                                                                                                                                                                                                                                                                                                                                                                                                                                                                                                                                                                                                                                                                                                                                                                                                                                                                                                                                                                                                                                                                                                                                                                                                                                                              </td><td>                                                                                                                                                                                                                                                                                                                                                                                                                                                                                                                                                                                                                                                                                                                                                                                                                                                                                                                                                                                                                                                                                                                                                                                                                                                                                                                                                                                                                                                                                                                                  </td><td>Roosevelt Study Center                                                                                                                                                                                                                                                                                                                                                                                                                                                                                                                                                                                                                                                                                                                                                                                                                                                                                                                                                                                                                                                                                                                                                                                                                                                                                                                                                                                                                                                                                                            </td></tr>\n",
       "</tbody>\n",
       "</table>\n"
      ],
      "text/latex": [
       "\\begin{tabular}{r|llllllllllllll}\n",
       " date & issue\\_number & category & circulation & temporal & article\\_title & content & url & id & language & newspaper\\_title & ocr & pub\\_place & source\\\\\n",
       "\\hline\n",
       "\t 1851-12-30                                                                                                                                                                                                                                                                                                                                                                                                                                                                                                                                                                                                                                                                                                                                                                                                                                                                                                                                                                                                                                                                                                                                                                                                                                                                                                                                                                                                                                                                                                                                    & 106                                                                                                                                                                                                                                                                                                                                                                                                                                                                                                                                                                                                                                                                                                                                                                                                                                                                                                                                                                                                                                                                                                                                                                                                                                                                                                                                                                                                                                                                                                                                           & artikel                                                                                                                                                                                                                                                                                                                                                                                                                                                                                                                                                                                                                                                                                                                                                                                                                                                                                                                                                                                                                                                                                                                                                                                                                                                                                                                                                                                                                                                                                                                                       & Verenigde Staten                                                                                                                                                                                                                                                                                                                                                                                                                                                                                                                                                                                                                                                                                                                                                                                                                                                                                                                                                                                                                                                                                                                                                                                                                                                                                                                                                                                                                                                                                                                              & Dag                                                                                                                                                                                                                                                                                                                                                                                                                                                                                                                                                                                                                                                                                                                                                                                                                                                                                                                                                                                                                                                                                                                                                                                                                                                                                                                                                                                                                                                                                                                                           & REVOLUTIE IN FRANKERIJK                                                                                                                                                                                                                                                                                                                                                                                                                                                                                                                                                                                                                                                                                                                                                                                                                                                                                                                                                                                                                                                                                                                                                                                                                                                                                                                                                                                                                                                                                                                       & Met de stoomboot Europa werd over eenige j\\textbar{} dagen liet berigt te New-York aangebragt, dat;' President Louis Napoleon\"\" de Wetgevende Iva-j. raer van Frankrijk lieeft uiteen gejaagd en president wensebt te worden voor den tijd van 10 ja- j: ren. In deze maand nog moesten de nieuwe al- j gemeene verkiezingen plaats grijpen. Er heeft iwederom bloed in de straten van Parijs gestroomd i cn de hoofdstad werd in staat van beleg verklaard, j Op onderscheidene plaatsen werden barricaden opgeworpen en op verschillende punten hevig gevochten. Twee leden der wetgevende vergadering zijn bij de barricaden gesneuveld, terwijl anderen gevangen zijn of bewaakt worden. President Napoleos beeft openlijk de teugels des be- j winds in handen genomen, en heeft het oog op de , pnpularitiet eener algemeene verkiezings-wet en : den sterken arm der militairen om hem te onder- â–  steunen. Dit zal ongetwijfeld den aanvang eener ; revolutie zijn, verschrikkelijker in haren aard, geweldiger in haren invloed en gewigtiger in hare {]} uitwerkingen, dan eene revolutie welke sedert < menige eeuw over Europa gewaaid heeft Aan- ( vankelijk schijnt Napoleon wel te slagen, echter kan de zege van het despotisme slechts van korten ; ( duur zijn. Frankrijk blijft niet lang in revolutie,', en het tegenwoordige is slechts een oproer, welke do teekenen der tijden ons zeggen te moeten voortduren tot dat Europa verlost, herboren en bevrijd is van het juk van dwingelandij en ver- {]} drukking ! , & http://resolver.kb.nl/resolve?urn=ddd:011021468:mpeg21:a0007                                                                                                                                                                                                                                                                                                                                                                                                                                                                                                                                                                                                                                                                                                                                                                                                                                                                                                                                                                                                                                                                                                                                                                                                                                                                                                                                                                                                                                                                                  & ddd:011021468:mpeg21:a0007                                                                                                                                                                                                                                                                                                                                                                                                                                                                                                                                                                                                                                                                                                                                                                                                                                                                                                                                                                                                                                                                                                                                                                                                                                                                                                                                                                                                                                                                                                                    & nl                                                                                                                                                                                                                                                                                                                                                                                                                                                                                                                                                                                                                                                                                                                                                                                                                                                                                                                                                                                                                                                                                                                                                                                                                                                                                                                                                                                                                                                                                                                                            & De Sheboygan Nieuwsbode                                                                                                                                                                                                                                                                                                                                                                                                                                                                                                                                                                                                                                                                                                                                                                                                                                                                                                                                                                                                                                                                                                                                                                                                                                                                                                                                                                                                                                                                                                                       & 79.5                                                                                                                                                                                                                                                                                                                                                                                                                                                                                                                                                                                                                                                                                                                                                                                                                                                                                                                                                                                                                                                                                                                                                                                                                                                                                                                                                                                                                                                                                                                                          &                                                                                                                                                                                                                                                                                                                                                                                                                                                                                                                                                                                                                                                                                                                                                                                                                                                                                                                                                                                                                                                                                                                                                                                                                                                                                                                                                                                                                                                                                                                                               & Roosevelt Study Center                                                                                                                                                                                                                                                                                                                                                                                                                                                                                                                                                                                                                                                                                                                                                                                                                                                                                                                                                                                                                                                                                                                                                                                                                                                                                                                                                                                                                                                                                                                       \\\\\n",
       "\\end{tabular}\n"
      ],
      "text/markdown": [
       "\n",
       "| date | issue_number | category | circulation | temporal | article_title | content | url | id | language | newspaper_title | ocr | pub_place | source |\n",
       "|---|---|---|---|---|---|---|---|---|---|---|---|---|---|\n",
       "| 1851-12-30                                                                                                                                                                                                                                                                                                                                                                                                                                                                                                                                                                                                                                                                                                                                                                                                                                                                                                                                                                                                                                                                                                                                                                                                                                                                                                                                                                                                                                                                                                                      | 106                                                                                                                                                                                                                                                                                                                                                                                                                                                                                                                                                                                                                                                                                                                                                                                                                                                                                                                                                                                                                                                                                                                                                                                                                                                                                                                                                                                                                                                                                                                             | artikel                                                                                                                                                                                                                                                                                                                                                                                                                                                                                                                                                                                                                                                                                                                                                                                                                                                                                                                                                                                                                                                                                                                                                                                                                                                                                                                                                                                                                                                                                                                         | Verenigde Staten                                                                                                                                                                                                                                                                                                                                                                                                                                                                                                                                                                                                                                                                                                                                                                                                                                                                                                                                                                                                                                                                                                                                                                                                                                                                                                                                                                                                                                                                                                                | Dag                                                                                                                                                                                                                                                                                                                                                                                                                                                                                                                                                                                                                                                                                                                                                                                                                                                                                                                                                                                                                                                                                                                                                                                                                                                                                                                                                                                                                                                                                                                             | REVOLUTIE IN FRANKERIJK                                                                                                                                                                                                                                                                                                                                                                                                                                                                                                                                                                                                                                                                                                                                                                                                                                                                                                                                                                                                                                                                                                                                                                                                                                                                                                                                                                                                                                                                                                         | Met de stoomboot Europa werd over eenige j| dagen liet berigt te New-York aangebragt, dat;' President Louis Napoleon\"\" de Wetgevende Iva-j. raer van Frankrijk lieeft uiteen gejaagd en president wensebt te worden voor den tijd van 10 ja- j: ren. In deze maand nog moesten de nieuwe al- j gemeene verkiezingen plaats grijpen. Er heeft iwederom bloed in de straten van Parijs gestroomd i cn de hoofdstad werd in staat van beleg verklaard, j Op onderscheidene plaatsen werden barricaden opgeworpen en op verschillende punten hevig gevochten. Twee leden der wetgevende vergadering zijn bij de barricaden gesneuveld, terwijl anderen gevangen zijn of bewaakt worden. President Napoleos beeft openlijk de teugels des be- j winds in handen genomen, en heeft het oog op de , pnpularitiet eener algemeene verkiezings-wet en : den sterken arm der militairen om hem te onder- â–  steunen. Dit zal ongetwijfeld den aanvang eener ; revolutie zijn, verschrikkelijker in haren aard, geweldiger in haren invloed en gewigtiger in hare ] uitwerkingen, dan eene revolutie welke sedert < menige eeuw over Europa gewaaid heeft Aan- ( vankelijk schijnt Napoleon wel te slagen, echter kan de zege van het despotisme slechts van korten ; ( duur zijn. Frankrijk blijft niet lang in revolutie,', en het tegenwoordige is slechts een oproer, welke do teekenen der tijden ons zeggen te moeten voortduren tot dat Europa verlost, herboren en bevrijd is van het juk van dwingelandij en ver- ] drukking ! , | http://resolver.kb.nl/resolve?urn=ddd:011021468:mpeg21:a0007                                                                                                                                                                                                                                                                                                                                                                                                                                                                                                                                                                                                                                                                                                                                                                                                                                                                                                                                                                                                                                                                                                                                                                                                                                                                                                                                                                                                                                                                    | ddd:011021468:mpeg21:a0007                                                                                                                                                                                                                                                                                                                                                                                                                                                                                                                                                                                                                                                                                                                                                                                                                                                                                                                                                                                                                                                                                                                                                                                                                                                                                                                                                                                                                                                                                                      | nl                                                                                                                                                                                                                                                                                                                                                                                                                                                                                                                                                                                                                                                                                                                                                                                                                                                                                                                                                                                                                                                                                                                                                                                                                                                                                                                                                                                                                                                                                                                              | De Sheboygan Nieuwsbode                                                                                                                                                                                                                                                                                                                                                                                                                                                                                                                                                                                                                                                                                                                                                                                                                                                                                                                                                                                                                                                                                                                                                                                                                                                                                                                                                                                                                                                                                                         | 79.5                                                                                                                                                                                                                                                                                                                                                                                                                                                                                                                                                                                                                                                                                                                                                                                                                                                                                                                                                                                                                                                                                                                                                                                                                                                                                                                                                                                                                                                                                                                            |                                                                                                                                                                                                                                                                                                                                                                                                                                                                                                                                                                                                                                                                                                                                                                                                                                                                                                                                                                                                                                                                                                                                                                                                                                                                                                                                                                                                                                                                                                                                 | Roosevelt Study Center                                                                                                                                                                                                                                                                                                                                                                                                                                                                                                                                                                                                                                                                                                                                                                                                                                                                                                                                                                                                                                                                                                                                                                                                                                                                                                                                                                                                                                                                                                          |\n",
       "\n"
      ],
      "text/plain": [
       "  date       issue_number category circulation      temporal\n",
       "1 1851-12-30 106          artikel  Verenigde Staten Dag     \n",
       "  article_title          \n",
       "1 REVOLUTIE IN FRANKERIJK\n",
       "  content                                                                                                                                                                                                                                                                                                                                                                                                                                                                                                                                                                                                                                                                                                                                                                                                                                                                                                                                                                                                                                                                                                                                                                                                                                                                                                                                                                                                                                                                                                                        \n",
       "1 Met de stoomboot Europa werd over eenige j| dagen liet berigt te New-York aangebragt, dat;' President Louis Napoleon\"\" de Wetgevende Iva-j. raer van Frankrijk lieeft uiteen gejaagd en president wensebt te worden voor den tijd van 10 ja- j: ren. In deze maand nog moesten de nieuwe al- j gemeene verkiezingen plaats grijpen. Er heeft iwederom bloed in de straten van Parijs gestroomd i cn de hoofdstad werd in staat van beleg verklaard, j Op onderscheidene plaatsen werden barricaden opgeworpen en op verschillende punten hevig gevochten. Twee leden der wetgevende vergadering zijn bij de barricaden gesneuveld, terwijl anderen gevangen zijn of bewaakt worden. President Napoleos beeft openlijk de teugels des be- j winds in handen genomen, en heeft het oog op de , pnpularitiet eener algemeene verkiezings-wet en : den sterken arm der militairen om hem te onder- â–  steunen. Dit zal ongetwijfeld den aanvang eener ; revolutie zijn, verschrikkelijker in haren aard, geweldiger in haren invloed en gewigtiger in hare ] uitwerkingen, dan eene revolutie welke sedert < menige eeuw over Europa gewaaid heeft Aan- ( vankelijk schijnt Napoleon wel te slagen, echter kan de zege van het despotisme slechts van korten ; ( duur zijn. Frankrijk blijft niet lang in revolutie,', en het tegenwoordige is slechts een oproer, welke do teekenen der tijden ons zeggen te moeten voortduren tot dat Europa verlost, herboren en bevrijd is van het juk van dwingelandij en ver- ] drukking ! ,\n",
       "  url                                                         \n",
       "1 http://resolver.kb.nl/resolve?urn=ddd:011021468:mpeg21:a0007\n",
       "  id                         language newspaper_title         ocr  pub_place\n",
       "1 ddd:011021468:mpeg21:a0007 nl       De Sheboygan Nieuwsbode 79.5          \n",
       "  source                 \n",
       "1 Roosevelt Study Center "
      ]
     },
     "metadata": {},
     "output_type": "display_data"
    }
   ],
   "source": [
    "head(revol[1])"
   ]
  },
  {
   "cell_type": "code",
   "execution_count": 7,
   "id": "fbab0f65",
   "metadata": {},
   "outputs": [
    {
     "data": {
      "text/html": [
       "<ol class=list-inline>\n",
       "\t<li>'date'</li>\n",
       "\t<li>'issue_number'</li>\n",
       "\t<li>'category'</li>\n",
       "\t<li>'circulation'</li>\n",
       "\t<li>'temporal'</li>\n",
       "\t<li>'article_title'</li>\n",
       "\t<li>'content'</li>\n",
       "\t<li>'url'</li>\n",
       "\t<li>'id'</li>\n",
       "\t<li>'language'</li>\n",
       "\t<li>'newspaper_title'</li>\n",
       "\t<li>'ocr'</li>\n",
       "\t<li>'pub_place'</li>\n",
       "\t<li>'source'</li>\n",
       "</ol>\n"
      ],
      "text/latex": [
       "\\begin{enumerate*}\n",
       "\\item 'date'\n",
       "\\item 'issue\\_number'\n",
       "\\item 'category'\n",
       "\\item 'circulation'\n",
       "\\item 'temporal'\n",
       "\\item 'article\\_title'\n",
       "\\item 'content'\n",
       "\\item 'url'\n",
       "\\item 'id'\n",
       "\\item 'language'\n",
       "\\item 'newspaper\\_title'\n",
       "\\item 'ocr'\n",
       "\\item 'pub\\_place'\n",
       "\\item 'source'\n",
       "\\end{enumerate*}\n"
      ],
      "text/markdown": [
       "1. 'date'\n",
       "2. 'issue_number'\n",
       "3. 'category'\n",
       "4. 'circulation'\n",
       "5. 'temporal'\n",
       "6. 'article_title'\n",
       "7. 'content'\n",
       "8. 'url'\n",
       "9. 'id'\n",
       "10. 'language'\n",
       "11. 'newspaper_title'\n",
       "12. 'ocr'\n",
       "13. 'pub_place'\n",
       "14. 'source'\n",
       "\n",
       "\n"
      ],
      "text/plain": [
       " [1] \"date\"            \"issue_number\"    \"category\"        \"circulation\"    \n",
       " [5] \"temporal\"        \"article_title\"   \"content\"         \"url\"            \n",
       " [9] \"id\"              \"language\"        \"newspaper_title\" \"ocr\"            \n",
       "[13] \"pub_place\"       \"source\"         "
      ]
     },
     "metadata": {},
     "output_type": "display_data"
    }
   ],
   "source": [
    "colnames(revol)"
   ]
  },
  {
   "cell_type": "markdown",
   "id": "70e0ce19",
   "metadata": {},
   "source": [
    "Let's keep only the variables we want to continue to work with. And inspect the first rows of this subset. You'll already notice the mentioning of \"FRANKRIJK\" (France) and \"WEENEN\" (Vienna) here."
   ]
  },
  {
   "cell_type": "code",
   "execution_count": 4,
   "id": "0693c2a5",
   "metadata": {},
   "outputs": [],
   "source": [
    "x <- revol[,c(\"id\", \"date\", \"article_title\", \"url\")]"
   ]
  },
  {
   "cell_type": "code",
   "execution_count": 7,
   "id": "46254843",
   "metadata": {},
   "outputs": [
    {
     "data": {
      "text/html": [
       "<table>\n",
       "<thead><tr><th scope=col>id</th><th scope=col>date</th><th scope=col>article_title</th><th scope=col>url</th></tr></thead>\n",
       "<tbody>\n",
       "\t<tr><td>ddd:011021468:mpeg21:a0007                                  </td><td>1851-12-30                                                  </td><td>REVOLUTIE IN FRANKERIJK                                     </td><td>http://resolver.kb.nl/resolve?urn=ddd:011021468:mpeg21:a0007</td></tr>\n",
       "\t<tr><td>ddd:011021468:mpeg21:a0037                                  </td><td>1851-12-30                                                  </td><td>REVOLUTIE IN FRANKRIJK.                                     </td><td>http://resolver.kb.nl/resolve?urn=ddd:011021468:mpeg21:a0037</td></tr>\n",
       "\t<tr><td>ddd:010078958:mpeg21:a0001                                  </td><td>1859-04-21                                                  </td><td>Frakrijk en de Revolutie.                                   </td><td>http://resolver.kb.nl/resolve?urn=ddd:010078958:mpeg21:a0001</td></tr>\n",
       "\t<tr><td>TEN:MMKB08:MMKB08:000088461:mpeg21:a0006                    </td><td>1853-08-10                                                  </td><td>(1) Ongeloof en Revolutie bladz. 55.                        </td><td>400337789                                                   </td></tr>\n",
       "\t<tr><td>ddd:010081856:mpeg21:a0013                                  </td><td>1850-07-18                                                  </td><td>VARIA. BALANS DER FEBRUARIJ REVOLUTIE.                      </td><td>http://resolver.kb.nl/resolve?urn=ddd:010081856:mpeg21:a0013</td></tr>\n",
       "\t<tr><td>ddd:010067146:mpeg21:a0001                                  </td><td>1848-10-23                                                  </td><td>UTRECHT, 21 October. DE REVOLUTIE TE WEENEN.                </td><td>http://resolver.kb.nl/resolve?urn=ddd:010067146:mpeg21:a0001</td></tr>\n",
       "</tbody>\n",
       "</table>\n"
      ],
      "text/latex": [
       "\\begin{tabular}{r|llll}\n",
       " id & date & article\\_title & url\\\\\n",
       "\\hline\n",
       "\t ddd:011021468:mpeg21:a0007                                   & 1851-12-30                                                   & REVOLUTIE IN FRANKERIJK                                      & http://resolver.kb.nl/resolve?urn=ddd:011021468:mpeg21:a0007\\\\\n",
       "\t ddd:011021468:mpeg21:a0037                                   & 1851-12-30                                                   & REVOLUTIE IN FRANKRIJK.                                      & http://resolver.kb.nl/resolve?urn=ddd:011021468:mpeg21:a0037\\\\\n",
       "\t ddd:010078958:mpeg21:a0001                                   & 1859-04-21                                                   & Frakrijk en de Revolutie.                                    & http://resolver.kb.nl/resolve?urn=ddd:010078958:mpeg21:a0001\\\\\n",
       "\t TEN:MMKB08:MMKB08:000088461:mpeg21:a0006                     & 1853-08-10                                                   & (1) Ongeloof en Revolutie bladz. 55.                         & 400337789                                                   \\\\\n",
       "\t ddd:010081856:mpeg21:a0013                                   & 1850-07-18                                                   & VARIA. BALANS DER FEBRUARIJ REVOLUTIE.                       & http://resolver.kb.nl/resolve?urn=ddd:010081856:mpeg21:a0013\\\\\n",
       "\t ddd:010067146:mpeg21:a0001                                   & 1848-10-23                                                   & UTRECHT, 21 October. DE REVOLUTIE TE WEENEN.                 & http://resolver.kb.nl/resolve?urn=ddd:010067146:mpeg21:a0001\\\\\n",
       "\\end{tabular}\n"
      ],
      "text/markdown": [
       "\n",
       "| id | date | article_title | url |\n",
       "|---|---|---|---|\n",
       "| ddd:011021468:mpeg21:a0007                                   | 1851-12-30                                                   | REVOLUTIE IN FRANKERIJK                                      | http://resolver.kb.nl/resolve?urn=ddd:011021468:mpeg21:a0007 |\n",
       "| ddd:011021468:mpeg21:a0037                                   | 1851-12-30                                                   | REVOLUTIE IN FRANKRIJK.                                      | http://resolver.kb.nl/resolve?urn=ddd:011021468:mpeg21:a0037 |\n",
       "| ddd:010078958:mpeg21:a0001                                   | 1859-04-21                                                   | Frakrijk en de Revolutie.                                    | http://resolver.kb.nl/resolve?urn=ddd:010078958:mpeg21:a0001 |\n",
       "| TEN:MMKB08:MMKB08:000088461:mpeg21:a0006                     | 1853-08-10                                                   | (1) Ongeloof en Revolutie bladz. 55.                         | 400337789                                                    |\n",
       "| ddd:010081856:mpeg21:a0013                                   | 1850-07-18                                                   | VARIA. BALANS DER FEBRUARIJ REVOLUTIE.                       | http://resolver.kb.nl/resolve?urn=ddd:010081856:mpeg21:a0013 |\n",
       "| ddd:010067146:mpeg21:a0001                                   | 1848-10-23                                                   | UTRECHT, 21 October. DE REVOLUTIE TE WEENEN.                 | http://resolver.kb.nl/resolve?urn=ddd:010067146:mpeg21:a0001 |\n",
       "\n"
      ],
      "text/plain": [
       "  id                                       date      \n",
       "1 ddd:011021468:mpeg21:a0007               1851-12-30\n",
       "2 ddd:011021468:mpeg21:a0037               1851-12-30\n",
       "3 ddd:010078958:mpeg21:a0001               1859-04-21\n",
       "4 TEN:MMKB08:MMKB08:000088461:mpeg21:a0006 1853-08-10\n",
       "5 ddd:010081856:mpeg21:a0013               1850-07-18\n",
       "6 ddd:010067146:mpeg21:a0001               1848-10-23\n",
       "  article_title                               \n",
       "1 REVOLUTIE IN FRANKERIJK                     \n",
       "2 REVOLUTIE IN FRANKRIJK.                     \n",
       "3 Frakrijk en de Revolutie.                   \n",
       "4 (1) Ongeloof en Revolutie bladz. 55.        \n",
       "5 VARIA. BALANS DER FEBRUARIJ REVOLUTIE.      \n",
       "6 UTRECHT, 21 October. DE REVOLUTIE TE WEENEN.\n",
       "  url                                                         \n",
       "1 http://resolver.kb.nl/resolve?urn=ddd:011021468:mpeg21:a0007\n",
       "2 http://resolver.kb.nl/resolve?urn=ddd:011021468:mpeg21:a0037\n",
       "3 http://resolver.kb.nl/resolve?urn=ddd:010078958:mpeg21:a0001\n",
       "4 400337789                                                   \n",
       "5 http://resolver.kb.nl/resolve?urn=ddd:010081856:mpeg21:a0013\n",
       "6 http://resolver.kb.nl/resolve?urn=ddd:010067146:mpeg21:a0001"
      ]
     },
     "metadata": {},
     "output_type": "display_data"
    }
   ],
   "source": [
    "head(x)"
   ]
  },
  {
   "cell_type": "markdown",
   "id": "58bd541a",
   "metadata": {},
   "source": [
    "Not required for now, but below demonstrates how to extract years from the date variable."
   ]
  },
  {
   "cell_type": "code",
   "execution_count": 10,
   "id": "6f0af36a",
   "metadata": {},
   "outputs": [],
   "source": [
    "x$date <- as.Date(x$date)\n",
    "x[, year := as.numeric(substr(x$date, 1,4))]"
   ]
  },
  {
   "cell_type": "code",
   "execution_count": 36,
   "id": "685e4dfc",
   "metadata": {},
   "outputs": [
    {
     "data": {
      "text/html": [
       "<table>\n",
       "<thead><tr><th scope=col>year</th><th scope=col>N</th></tr></thead>\n",
       "<tbody>\n",
       "\t<tr><td>1860</td><td>1290</td></tr>\n",
       "\t<tr><td>1859</td><td> 966</td></tr>\n",
       "\t<tr><td>1858</td><td> 355</td></tr>\n",
       "\t<tr><td>1857</td><td> 365</td></tr>\n",
       "\t<tr><td>1856</td><td> 542</td></tr>\n",
       "\t<tr><td>1855</td><td> 339</td></tr>\n",
       "\t<tr><td>1854</td><td> 487</td></tr>\n",
       "\t<tr><td>1853</td><td> 538</td></tr>\n",
       "\t<tr><td>1852</td><td> 497</td></tr>\n",
       "\t<tr><td>1851</td><td> 613</td></tr>\n",
       "</tbody>\n",
       "</table>\n"
      ],
      "text/latex": [
       "\\begin{tabular}{r|ll}\n",
       " year & N\\\\\n",
       "\\hline\n",
       "\t 1860 & 1290\\\\\n",
       "\t 1859 &  966\\\\\n",
       "\t 1858 &  355\\\\\n",
       "\t 1857 &  365\\\\\n",
       "\t 1856 &  542\\\\\n",
       "\t 1855 &  339\\\\\n",
       "\t 1854 &  487\\\\\n",
       "\t 1853 &  538\\\\\n",
       "\t 1852 &  497\\\\\n",
       "\t 1851 &  613\\\\\n",
       "\\end{tabular}\n"
      ],
      "text/markdown": [
       "\n",
       "| year | N |\n",
       "|---|---|\n",
       "| 1860 | 1290 |\n",
       "| 1859 |  966 |\n",
       "| 1858 |  355 |\n",
       "| 1857 |  365 |\n",
       "| 1856 |  542 |\n",
       "| 1855 |  339 |\n",
       "| 1854 |  487 |\n",
       "| 1853 |  538 |\n",
       "| 1852 |  497 |\n",
       "| 1851 |  613 |\n",
       "\n"
      ],
      "text/plain": [
       "   year N   \n",
       "1  1860 1290\n",
       "2  1859  966\n",
       "3  1858  355\n",
       "4  1857  365\n",
       "5  1856  542\n",
       "6  1855  339\n",
       "7  1854  487\n",
       "8  1853  538\n",
       "9  1852  497\n",
       "10 1851  613"
      ]
     },
     "metadata": {},
     "output_type": "display_data"
    }
   ],
   "source": [
    "setDT(x)\n",
    "x[, .N, list(year)][order(-year)][1:10]"
   ]
  },
  {
   "cell_type": "markdown",
   "id": "e8975c42",
   "metadata": {},
   "source": [
    "For better Named Entity Recognition we will change the article_title variable to lower case strings. \n",
    "SpaCy has the tendency to recognize uppercase strings as corporations."
   ]
  },
  {
   "cell_type": "code",
   "execution_count": 10,
   "id": "bd2c9427",
   "metadata": {},
   "outputs": [],
   "source": [
    "x$article_title <- tolower(x$article_title)"
   ]
  },
  {
   "cell_type": "markdown",
   "id": "8870ffca",
   "metadata": {},
   "source": [
    "Now we need to call in action the [Dutch language model](https://spacy.io/models/nl/#nl_core_news_sm) from spaCy to perform NER. If you want to replicate this analysis, you need to have this installed on your local machine. Read the website for installation instructions. "
   ]
  },
  {
   "cell_type": "code",
   "execution_count": 12,
   "id": "934d4619",
   "metadata": {},
   "outputs": [
    {
     "name": "stderr",
     "output_type": "stream",
     "text": [
      "Finding a python executable with spaCy installed...\n",
      "spaCy (language model: nl_core_news_sm) is installed in C:\\Users\\Schal107\\AppData\\Local\\Programs\\Python\\Python39\\python.exe\n",
      "successfully initialized (spaCy Version: 3.3.0, language model: nl_core_news_sm)\n",
      "(python options: type = \"python_executable\", value = \"C:\\Users\\Schal107\\AppData\\Local\\Programs\\Python\\Python39\\python.exe\")\n"
     ]
    }
   ],
   "source": [
    "spacy_initialize(model = \"nl_core_news_sm\")"
   ]
  },
  {
   "cell_type": "markdown",
   "id": "dc40678f",
   "metadata": {},
   "source": [
    "Below we parse the article_title to SpaCy and perform NER. You'll see that it has recognized at least some locations in the resulting table."
   ]
  },
  {
   "cell_type": "code",
   "execution_count": 17,
   "id": "d5a9c0ad",
   "metadata": {},
   "outputs": [],
   "source": [
    "parsedtxt <- spacy_parse(x$article_title, lemma = FALSE, entity = TRUE, nounphrase = TRUE)"
   ]
  },
  {
   "cell_type": "code",
   "execution_count": 18,
   "id": "bd76302d",
   "metadata": {},
   "outputs": [],
   "source": [
    "locations <- entity_extract(parsedtxt)"
   ]
  },
  {
   "cell_type": "code",
   "execution_count": 19,
   "id": "b5594514",
   "metadata": {},
   "outputs": [],
   "source": [
    "setDT(locations)\n",
    "top100 <- locations[entity_type == \"GPE\", .N, list(entity) ][order(-N)]"
   ]
  },
  {
   "cell_type": "code",
   "execution_count": 16,
   "id": "307b122d",
   "metadata": {},
   "outputs": [
    {
     "data": {
      "text/html": [
       "<table>\n",
       "<thead><tr><th scope=col>entity</th><th scope=col>N</th></tr></thead>\n",
       "<tbody>\n",
       "\t<tr><td>frankrijk</td><td>1349     </td></tr>\n",
       "\t<tr><td>parijs   </td><td> 997     </td></tr>\n",
       "\t<tr><td>amsterdam</td><td> 535     </td></tr>\n",
       "\t<tr><td>utrecht  </td><td> 304     </td></tr>\n",
       "\t<tr><td>londen   </td><td> 168     </td></tr>\n",
       "\t<tr><td>brussel  </td><td> 129     </td></tr>\n",
       "</tbody>\n",
       "</table>\n"
      ],
      "text/latex": [
       "\\begin{tabular}{r|ll}\n",
       " entity & N\\\\\n",
       "\\hline\n",
       "\t frankrijk & 1349     \\\\\n",
       "\t parijs    &  997     \\\\\n",
       "\t amsterdam &  535     \\\\\n",
       "\t utrecht   &  304     \\\\\n",
       "\t londen    &  168     \\\\\n",
       "\t brussel   &  129     \\\\\n",
       "\\end{tabular}\n"
      ],
      "text/markdown": [
       "\n",
       "| entity | N |\n",
       "|---|---|\n",
       "| frankrijk | 1349      |\n",
       "| parijs    |  997      |\n",
       "| amsterdam |  535      |\n",
       "| utrecht   |  304      |\n",
       "| londen    |  168      |\n",
       "| brussel   |  129      |\n",
       "\n"
      ],
      "text/plain": [
       "  entity    N   \n",
       "1 frankrijk 1349\n",
       "2 parijs     997\n",
       "3 amsterdam  535\n",
       "4 utrecht    304\n",
       "5 londen     168\n",
       "6 brussel    129"
      ]
     },
     "metadata": {},
     "output_type": "display_data"
    }
   ],
   "source": [
    "head(top100)"
   ]
  },
  {
   "cell_type": "markdown",
   "id": "9532b2cc",
   "metadata": {},
   "source": [
    "Before we can plot them on a map, we need to add coordinates to the placenames. We'll use the Google Maps API for that. Notice that you will need your own key to do so. You can register for a free API key at Google. "
   ]
  },
  {
   "cell_type": "code",
   "execution_count": 20,
   "id": "b915c82b",
   "metadata": {},
   "outputs": [],
   "source": [
    "google_key <- fread(\"C:\\\\Users\\\\Schal107\\\\Documents\\\\UBU\\\\Team DH\\\\Delpher\\\\google_key.txt\")\n",
    "register_google(key = paste0(google_key$key))"
   ]
  },
  {
   "cell_type": "code",
   "execution_count": 55,
   "id": "0b62fb2f",
   "metadata": {},
   "outputs": [
    {
     "name": "stderr",
     "output_type": "stream",
     "text": [
      "Source : https://maps.googleapis.com/maps/api/geocode/json?address=frankrijk&key=xxx\n",
      "Source : https://maps.googleapis.com/maps/api/geocode/json?address=parijs&key=xxx\n",
      "Source : https://maps.googleapis.com/maps/api/geocode/json?address=amsterdam&key=xxx\n",
      "Source : https://maps.googleapis.com/maps/api/geocode/json?address=utrecht&key=xxx\n",
      "Source : https://maps.googleapis.com/maps/api/geocode/json?address=londen&key=xxx\n",
      "Source : https://maps.googleapis.com/maps/api/geocode/json?address=brussel&key=xxx\n",
      "\"brussel\" not uniquely geocoded, using \"brussels, belgium\"\n",
      "Source : https://maps.googleapis.com/maps/api/geocode/json?address=rotterdam&key=xxx\n",
      "Source : https://maps.googleapis.com/maps/api/geocode/json?address=berlijn&key=xxx\n",
      "Source : https://maps.googleapis.com/maps/api/geocode/json?address=nederlanden&key=xxx\n",
      "Warning message:\n",
      "\"Geocoding \"nederlanden\" failed with error:\n",
      "\n",
      "\"Source : https://maps.googleapis.com/maps/api/geocode/json?address=nederland&key=xxx\n",
      "\"nederland\" not uniquely geocoded, using \"netherlands\"\n",
      "Source : https://maps.googleapis.com/maps/api/geocode/json?address=engeland&key=xxx\n",
      "Source : https://maps.googleapis.com/maps/api/geocode/json?address=china&key=xxx\n",
      "Source : https://maps.googleapis.com/maps/api/geocode/json?address=rome&key=xxx\n",
      "Source : https://maps.googleapis.com/maps/api/geocode/json?address=europa&key=xxx\n",
      "Warning message:\n",
      "\"Geocoding \"europa\" failed with error:\n",
      "\n",
      "\"Source : https://maps.googleapis.com/maps/api/geocode/json?address=rijn&key=xxx\n",
      "Source : https://maps.googleapis.com/maps/api/geocode/json?address=zuid-amerika&key=xxx\n",
      "Source : https://maps.googleapis.com/maps/api/geocode/json?address=oostenrijk&key=xxx\n",
      "Source : https://maps.googleapis.com/maps/api/geocode/json?address=athene&key=xxx\n",
      "Source : https://maps.googleapis.com/maps/api/geocode/json?address=rusland&key=xxx\n",
      "\"rusland\" not uniquely geocoded, using \"rusland, ulverston la12 8js, uk\"\n",
      "Source : https://maps.googleapis.com/maps/api/geocode/json?address=keulen&key=xxx\n",
      "Source : https://maps.googleapis.com/maps/api/geocode/json?address=hongarije&key=xxx\n",
      "Source : https://maps.googleapis.com/maps/api/geocode/json?address=antwerpen&key=xxx\n",
      "Source : https://maps.googleapis.com/maps/api/geocode/json?address=madrid&key=xxx\n",
      "Source : https://maps.googleapis.com/maps/api/geocode/json?address=%C3%A2%E2%82%AC_%E2%84%A2_s_avonds&key=xxx\n",
      "Warning message:\n",
      "\"Geocoding \"â€_™_s_avonds\" failed with error:\n",
      "\n",
      "\"Source : https://maps.googleapis.com/maps/api/geocode/json?address=warschau&key=xxx\n",
      "Source : https://maps.googleapis.com/maps/api/geocode/json?address=regtstreeksche_verkiezingen&key=xxx\n",
      "Warning message:\n",
      "\"Geocoding \"regtstreeksche_ve...\" failed with error:\n",
      "\n",
      "\"Source : https://maps.googleapis.com/maps/api/geocode/json?address=aken&key=xxx\n",
      "\"aken\" not uniquely geocoded, using \"aken (elbe), germany\"\n",
      "Source : https://maps.googleapis.com/maps/api/geocode/json?address=petersburg&key=xxx\n",
      "\"petersburg\" not uniquely geocoded, using \"petersburg, va, usa\"\n",
      "Source : https://maps.googleapis.com/maps/api/geocode/json?address=%C3%A2%E2%82%AC_%E2%84%A2_savonds&key=xxx\n",
      "Warning message:\n",
      "\"Geocoding \"â€_™_savonds\" failed with error:\n",
      "\n",
      "\"Source : https://maps.googleapis.com/maps/api/geocode/json?address=pruisen&key=xxx\n",
      "Warning message:\n",
      "\"Geocoding \"pruisen\" failed with error:\n",
      "\n",
      "\"Source : https://maps.googleapis.com/maps/api/geocode/json?address=maastricht&key=xxx\n",
      "Source : https://maps.googleapis.com/maps/api/geocode/json?address=messina&key=xxx\n",
      "\"messina\" not uniquely geocoded, using \"messina, metropolitan city of messina, italy\"\n",
      "Source : https://maps.googleapis.com/maps/api/geocode/json?address=europesche_cirkus&key=xxx\n",
      "Warning message:\n",
      "\"Geocoding \"europesche_cirkus\" failed with error:\n",
      "\n",
      "\"Source : https://maps.googleapis.com/maps/api/geocode/json?address=amstebdam&key=xxx\n",
      "Source : https://maps.googleapis.com/maps/api/geocode/json?address=zwolle&key=xxx\n",
      "Source : https://maps.googleapis.com/maps/api/geocode/json?address=luxemburg&key=xxx\n",
      "Source : https://maps.googleapis.com/maps/api/geocode/json?address=parijs_16&key=xxx\n",
      "Warning message:\n",
      "\"Geocoding \"parijs_16\" failed with error:\n",
      "\n",
      "\"Source : https://maps.googleapis.com/maps/api/geocode/json?address=tegenwoordige_panick&key=xxx\n",
      "Warning message:\n",
      "\"Geocoding \"tegenwoordige_panick\" failed with error:\n",
      "\n",
      "\"Source : https://maps.googleapis.com/maps/api/geocode/json?address=parijs_25&key=xxx\n",
      "Warning message:\n",
      "\"Geocoding \"parijs_25\" failed with error:\n",
      "\n",
      "\"Source : https://maps.googleapis.com/maps/api/geocode/json?address=hamburg&key=xxx\n",
      "Source : https://maps.googleapis.com/maps/api/geocode/json?address=verandering_ii&key=xxx\n",
      "Warning message:\n",
      "\"Geocoding \"verandering_ii\" failed with error:\n",
      "\n",
      "\"Source : https://maps.googleapis.com/maps/api/geocode/json?address=nnr&key=xxx\n",
      "Warning message:\n",
      "\"Geocoding \"nnr\" failed with error:\n",
      "\n",
      "\"Source : https://maps.googleapis.com/maps/api/geocode/json?address=arnhem&key=xxx\n",
      "Source : https://maps.googleapis.com/maps/api/geocode/json?address=kassel&key=xxx\n",
      "Source : https://maps.googleapis.com/maps/api/geocode/json?address=parijs_27&key=xxx\n",
      "Warning message:\n",
      "\"Geocoding \"parijs_27\" failed with error:\n",
      "\n",
      "\"Source : https://maps.googleapis.com/maps/api/geocode/json?address=noord-amerika&key=xxx\n",
      "Source : https://maps.googleapis.com/maps/api/geocode/json?address=lombardije&key=xxx\n",
      "Source : https://maps.googleapis.com/maps/api/geocode/json?address=vlissingsche_courant&key=xxx\n",
      "Warning message:\n",
      "\"Geocoding \"vlissingsche_courant\" failed with error:\n",
      "\n",
      "\"Source : https://maps.googleapis.com/maps/api/geocode/json?address=graafschap_van_den_bosch&key=xxx\n",
      "Source : https://maps.googleapis.com/maps/api/geocode/json?address=noord-nederland&key=xxx\n",
      "Source : https://maps.googleapis.com/maps/api/geocode/json?address=parijs_20&key=xxx\n",
      "Warning message:\n",
      "\"Geocoding \"parijs_20\" failed with error:\n",
      "\n",
      "\"Source : https://maps.googleapis.com/maps/api/geocode/json?address=nesselrode&key=xxx\n",
      "Warning message:\n",
      "\"Geocoding \"nesselrode\" failed with error:\n",
      "\n",
      "\"Source : https://maps.googleapis.com/maps/api/geocode/json?address=staten-vergaderingen&key=xxx\n",
      "Warning message:\n",
      "\"Geocoding \"staten-vergaderingen\" failed with error:\n",
      "\n",
      "\"Source : https://maps.googleapis.com/maps/api/geocode/json?address=den_landdag&key=xxx\n",
      "Warning message:\n",
      "\"Geocoding \"den_landdag\" failed with error:\n",
      "\n",
      "\"Source : https://maps.googleapis.com/maps/api/geocode/json?address=e_iv_c_e_i&key=xxx\n",
      "Warning message:\n",
      "\"Geocoding \"e_iv_c_e_i\" failed with error:\n",
      "\n",
      "\"Source : https://maps.googleapis.com/maps/api/geocode/json?address=malthus&key=xxx\n",
      "Warning message:\n",
      "\"Geocoding \"malthus\" failed with error:\n",
      "\n",
      "\"Source : https://maps.googleapis.com/maps/api/geocode/json?address=plato-polichinelle&key=xxx\n",
      "Warning message:\n",
      "\"Geocoding \"plato-polichinelle\" failed with error:\n",
      "\n",
      "\"Source : https://maps.googleapis.com/maps/api/geocode/json?address=spanje&key=xxx\n",
      "Source : https://maps.googleapis.com/maps/api/geocode/json?address=eindhoven&key=xxx\n",
      "Source : https://maps.googleapis.com/maps/api/geocode/json?address=middelburg&key=xxx\n",
      "Source : https://maps.googleapis.com/maps/api/geocode/json?address=ridder-orden&key=xxx\n",
      "Warning message:\n",
      "\"Geocoding \"ridder-orden\" failed with error:\n",
      "\n",
      "\"Source : https://maps.googleapis.com/maps/api/geocode/json?address=groot-hertogdom_toskane&key=xxx\n",
      "\"groot-hertogdom_t...\" not uniquely geocoded, using \"tuscany, italy\"\n",
      "Source : https://maps.googleapis.com/maps/api/geocode/json?address=franschs_post&key=xxx\n",
      "Warning message:\n",
      "\"Geocoding \"franschs_post\" failed with error:\n",
      "\n",
      "\"Source : https://maps.googleapis.com/maps/api/geocode/json?address=noord-_amerika&key=xxx\n",
      "Source : https://maps.googleapis.com/maps/api/geocode/json?address=%C3%A2%E2%82%AC_%E2%84%A2&key=xxx\n",
      "Warning message:\n",
      "\"Geocoding \"â€_™\" failed with error:\n",
      "\n",
      "\"Source : https://maps.googleapis.com/maps/api/geocode/json?address=mannen-huis&key=xxx\n",
      "Warning message:\n",
      "\"Geocoding \"mannen-huis\" failed with error:\n",
      "\n",
      "\"Source : https://maps.googleapis.com/maps/api/geocode/json?address=eneeland&key=xxx\n",
      "Warning message:\n",
      "\"Geocoding \"eneeland\" failed with error:\n",
      "\n",
      "\"Source : https://maps.googleapis.com/maps/api/geocode/json?address=ingeklaard-december&key=xxx\n",
      "Warning message:\n",
      "\"Geocoding \"ingeklaard-december\" failed with error:\n",
      "\n",
      "\"Source : https://maps.googleapis.com/maps/api/geocode/json?address=mexico&key=xxx\n",
      "Source : https://maps.googleapis.com/maps/api/geocode/json?address=rotteredam&key=xxx\n",
      "Source : https://maps.googleapis.com/maps/api/geocode/json?address=parijs_30&key=xxx\n",
      "Warning message:\n",
      "\"Geocoding \"parijs_30\" failed with error:\n",
      "\n",
      "\"Source : https://maps.googleapis.com/maps/api/geocode/json?address=s%C3%A2%E2%82%AC_%E2%84%A2&key=xxx\n",
      "Warning message:\n",
      "\"Geocoding \"sâ€_™\" failed with error:\n",
      "\n",
      "\"Source : https://maps.googleapis.com/maps/api/geocode/json?address=ia_hongarije&key=xxx\n",
      "Source : https://maps.googleapis.com/maps/api/geocode/json?address=friesland&key=xxx\n",
      "Source : https://maps.googleapis.com/maps/api/geocode/json?address=faankrijk&key=xxx\n",
      "Source : https://maps.googleapis.com/maps/api/geocode/json?address=livorno_26&key=xxx\n",
      "Source : https://maps.googleapis.com/maps/api/geocode/json?address=nieuwsblad&key=xxx\n",
      "Warning message:\n",
      "\"Geocoding \"nieuwsblad\" failed with error:\n",
      "\n",
      "\"Source : https://maps.googleapis.com/maps/api/geocode/json?address=antonini&key=xxx\n",
      "Warning message:\n",
      "\"Geocoding \"antonini\" failed with error:\n",
      "\n",
      "\"Source : https://maps.googleapis.com/maps/api/geocode/json?address=nikolaas&key=xxx\n",
      "Source : https://maps.googleapis.com/maps/api/geocode/json?address=pella_guzill&key=xxx\n",
      "Warning message:\n",
      "\"Geocoding \"pella_guzill\" failed with error:\n",
      "\n",
      "\"Source : https://maps.googleapis.com/maps/api/geocode/json?address=parijs_17&key=xxx\n",
      "Warning message:\n",
      "\"Geocoding \"parijs_17\" failed with error:\n",
      "\n",
      "\"Source : https://maps.googleapis.com/maps/api/geocode/json?address=luyben&key=xxx\n"
     ]
    }
   ],
   "source": [
    "coordinates <- geocode(top100$entity)"
   ]
  },
  {
   "cell_type": "code",
   "execution_count": 30,
   "id": "bd1d4613",
   "metadata": {
    "scrolled": true
   },
   "outputs": [
    {
     "data": {
      "text/html": [
       "<table>\n",
       "<thead><tr><th scope=col>lon</th><th scope=col>lat</th></tr></thead>\n",
       "<tbody>\n",
       "\t<tr><td> 2.2137490</td><td>46.22764  </td></tr>\n",
       "\t<tr><td> 2.3522219</td><td>48.85661  </td></tr>\n",
       "\t<tr><td> 4.9041389</td><td>52.36757  </td></tr>\n",
       "\t<tr><td> 5.1214201</td><td>52.09074  </td></tr>\n",
       "\t<tr><td>-0.1275862</td><td>51.50722  </td></tr>\n",
       "\t<tr><td> 4.3571696</td><td>50.84764  </td></tr>\n",
       "</tbody>\n",
       "</table>\n"
      ],
      "text/latex": [
       "\\begin{tabular}{r|ll}\n",
       " lon & lat\\\\\n",
       "\\hline\n",
       "\t  2.2137490 & 46.22764  \\\\\n",
       "\t  2.3522219 & 48.85661  \\\\\n",
       "\t  4.9041389 & 52.36757  \\\\\n",
       "\t  5.1214201 & 52.09074  \\\\\n",
       "\t -0.1275862 & 51.50722  \\\\\n",
       "\t  4.3571696 & 50.84764  \\\\\n",
       "\\end{tabular}\n"
      ],
      "text/markdown": [
       "\n",
       "| lon | lat |\n",
       "|---|---|\n",
       "|  2.2137490 | 46.22764   |\n",
       "|  2.3522219 | 48.85661   |\n",
       "|  4.9041389 | 52.36757   |\n",
       "|  5.1214201 | 52.09074   |\n",
       "| -0.1275862 | 51.50722   |\n",
       "|  4.3571696 | 50.84764   |\n",
       "\n"
      ],
      "text/plain": [
       "  lon        lat     \n",
       "1  2.2137490 46.22764\n",
       "2  2.3522219 48.85661\n",
       "3  4.9041389 52.36757\n",
       "4  5.1214201 52.09074\n",
       "5 -0.1275862 51.50722\n",
       "6  4.3571696 50.84764"
      ]
     },
     "metadata": {},
     "output_type": "display_data"
    }
   ],
   "source": [
    "head(coordinates)"
   ]
  },
  {
   "cell_type": "markdown",
   "id": "2391babb",
   "metadata": {},
   "source": [
    "After the geocoding we merge the retrieved coordinates with the placenames."
   ]
  },
  {
   "cell_type": "code",
   "execution_count": 36,
   "id": "1ceb566a",
   "metadata": {},
   "outputs": [
    {
     "data": {
      "text/html": [
       "<table>\n",
       "<thead><tr><th scope=col>entity</th><th scope=col>N</th><th scope=col>lon</th><th scope=col>lat</th></tr></thead>\n",
       "<tbody>\n",
       "\t<tr><td>frankrijk </td><td>1349      </td><td> 2.2137490</td><td>46.22764  </td></tr>\n",
       "\t<tr><td>parijs    </td><td> 997      </td><td> 2.3522219</td><td>48.85661  </td></tr>\n",
       "\t<tr><td>amsterdam </td><td> 535      </td><td> 4.9041389</td><td>52.36757  </td></tr>\n",
       "\t<tr><td>utrecht   </td><td> 304      </td><td> 5.1214201</td><td>52.09074  </td></tr>\n",
       "\t<tr><td>londen    </td><td> 168      </td><td>-0.1275862</td><td>51.50722  </td></tr>\n",
       "\t<tr><td>brussel   </td><td> 129      </td><td> 4.3571696</td><td>50.84764  </td></tr>\n",
       "</tbody>\n",
       "</table>\n"
      ],
      "text/latex": [
       "\\begin{tabular}{r|llll}\n",
       " entity & N & lon & lat\\\\\n",
       "\\hline\n",
       "\t frankrijk  & 1349       &  2.2137490 & 46.22764  \\\\\n",
       "\t parijs     &  997       &  2.3522219 & 48.85661  \\\\\n",
       "\t amsterdam  &  535       &  4.9041389 & 52.36757  \\\\\n",
       "\t utrecht    &  304       &  5.1214201 & 52.09074  \\\\\n",
       "\t londen     &  168       & -0.1275862 & 51.50722  \\\\\n",
       "\t brussel    &  129       &  4.3571696 & 50.84764  \\\\\n",
       "\\end{tabular}\n"
      ],
      "text/markdown": [
       "\n",
       "| entity | N | lon | lat |\n",
       "|---|---|---|---|\n",
       "| frankrijk  | 1349       |  2.2137490 | 46.22764   |\n",
       "| parijs     |  997       |  2.3522219 | 48.85661   |\n",
       "| amsterdam  |  535       |  4.9041389 | 52.36757   |\n",
       "| utrecht    |  304       |  5.1214201 | 52.09074   |\n",
       "| londen     |  168       | -0.1275862 | 51.50722   |\n",
       "| brussel    |  129       |  4.3571696 | 50.84764   |\n",
       "\n"
      ],
      "text/plain": [
       "  entity    N    lon        lat     \n",
       "1 frankrijk 1349  2.2137490 46.22764\n",
       "2 parijs     997  2.3522219 48.85661\n",
       "3 amsterdam  535  4.9041389 52.36757\n",
       "4 utrecht    304  5.1214201 52.09074\n",
       "5 londen     168 -0.1275862 51.50722\n",
       "6 brussel    129  4.3571696 50.84764"
      ]
     },
     "metadata": {},
     "output_type": "display_data"
    }
   ],
   "source": [
    "coordinates <- cbind(top100, coordinates)\n",
    "head(coordinates)"
   ]
  },
  {
   "cell_type": "markdown",
   "id": "59e9ea19",
   "metadata": {},
   "source": [
    "Now we'll need a map! You can use the standard Google Map and define a centre using latitute and longitude. However, for historical data I like to remove roads and names from the map. You can do that by making your own map at [Google Mapstyle](https://mapstyle.withgoogle.com/). With the same API key as you've use for the geocoding, you can export the URL of your map of choice, and paste it below in the function `get_googlemap`. For some reason, though, you first need to extract the lat and long from this URL, and the zoom level (see below). Then you paste the remaining URL from the first mention of '&maptype' behind `path =` (don't forget to include it in quotes). Then it should work!"
   ]
  },
  {
   "cell_type": "code",
   "execution_count": 37,
   "id": "1b003357",
   "metadata": {},
   "outputs": [
    {
     "name": "stderr",
     "output_type": "stream",
     "text": [
      "Source : https://maps.googleapis.com/maps/api/staticmap?center=48.561878,10.95932&zoom=4&size=640x640&scale=2&maptype=terrain&path=&maptype=roadmap&style=element:geometry%7Ccolor:0xf5f5f5&style=element:labels%7Cvisibility:off&style=element:labels.icon%7Cvisibility:off&style=element:labels.text.fill%7Ccolor:0x616161&style=element:labels.text.stroke%7Ccolor:0xf5f5f5&style=feature:administrative.land_parcel%7Cvisibility:off&style=feature:administrative.land_parcel%7Celement:labels.text.fill%7Ccolor:0xbdbdbd&style=feature:administrative.neighborhood%7Cvisibility:off&style=feature:landscape.natural.terrain%7Ccolor:0xffffff%7Cvisibility:on%7Cweight:4&style=feature:landscape.natural.terrain%7Celement:geometry.fill%7Cvisibility:on%7Cweight:4&style=feature:landscape.natural.terrain%7Celement:geometry.stroke%7Cvisibility:on&style=feature:poi%7Celement:geometry%7Ccolor:0xeeeeee&style=feature:poi%7Celement:labels.text.fill%7Ccolor:0x757575&style=feature:poi.park%7Celement:geometry%7Ccolor:0xe5e5e5&style=feature:poi.park%7Celement:labels.text.fill%7Ccolor:0x9e9e9e&style=feature:road%7Cvisibility:off&style=feature:road%7Celement:geometry%7Ccolor:0xffffff&style=feature:road.arterial%7Celement:labels.text.fill%7Ccolor:0x757575&style=feature:road.highway%7Celement:geometry%7Ccolor:0xdadada&style=feature:road.highway%7Celement:labels.text.fill%7Ccolor:0x616161&style=feature:road.local%7Celement:labels.text.fill%7Ccolor:0x9e9e9e&style=feature:transit.line%7Celement:geometry%7Ccolor:0xe5e5e5&style=feature:transit.station%7Celement:geometry%7Ccolor:0xeeeeee&style=feature:water%7Celement:geometry%7Ccolor:0xc9c9c9&style=feature:water%7Celement:labels.text.fill%7Ccolor:0x9e9e9e&size=480x360&key=xxx\n"
     ]
    }
   ],
   "source": [
    "europe5 <- get_googlemap(center=c(lon=10.95931966568949, lat=48.561877580811775), zoom = 4, path = \"&maptype=roadmap&style=element:geometry%7Ccolor:0xf5f5f5&style=element:labels%7Cvisibility:off&style=element:labels.icon%7Cvisibility:off&style=element:labels.text.fill%7Ccolor:0x616161&style=element:labels.text.stroke%7Ccolor:0xf5f5f5&style=feature:administrative.land_parcel%7Cvisibility:off&style=feature:administrative.land_parcel%7Celement:labels.text.fill%7Ccolor:0xbdbdbd&style=feature:administrative.neighborhood%7Cvisibility:off&style=feature:landscape.natural.terrain%7Ccolor:0xffffff%7Cvisibility:on%7Cweight:4&style=feature:landscape.natural.terrain%7Celement:geometry.fill%7Cvisibility:on%7Cweight:4&style=feature:landscape.natural.terrain%7Celement:geometry.stroke%7Cvisibility:on&style=feature:poi%7Celement:geometry%7Ccolor:0xeeeeee&style=feature:poi%7Celement:labels.text.fill%7Ccolor:0x757575&style=feature:poi.park%7Celement:geometry%7Ccolor:0xe5e5e5&style=feature:poi.park%7Celement:labels.text.fill%7Ccolor:0x9e9e9e&style=feature:road%7Cvisibility:off&style=feature:road%7Celement:geometry%7Ccolor:0xffffff&style=feature:road.arterial%7Celement:labels.text.fill%7Ccolor:0x757575&style=feature:road.highway%7Celement:geometry%7Ccolor:0xdadada&style=feature:road.highway%7Celement:labels.text.fill%7Ccolor:0x616161&style=feature:road.local%7Celement:labels.text.fill%7Ccolor:0x9e9e9e&style=feature:transit.line%7Celement:geometry%7Ccolor:0xe5e5e5&style=feature:transit.station%7Celement:geometry%7Ccolor:0xeeeeee&style=feature:water%7Celement:geometry%7Ccolor:0xc9c9c9&style=feature:water%7Celement:labels.text.fill%7Ccolor:0x9e9e9e&size=480x360\")\n"
   ]
  },
  {
   "cell_type": "markdown",
   "id": "18c6feee",
   "metadata": {},
   "source": [
    "Now that we have our map loaded, we parse it to ggmap. Then we can add our data to it. The size of the dots corresponds to the number of times the geocoded placename is mentioned in our article titles. You'll see that Paris and France are dominant, but also that we spot some unexpected places in Italy and even Eastern Europe."
   ]
  },
  {
   "cell_type": "code",
   "execution_count": 53,
   "id": "2d49bafb",
   "metadata": {},
   "outputs": [
    {
     "name": "stderr",
     "output_type": "stream",
     "text": [
      "Saving 6.67 x 6.67 in image\n",
      "Warning message:\n",
      "\"Removed 41 rows containing missing values (geom_point).\""
     ]
    }
   ],
   "source": [
    "p <- ggmap(europe5)\n",
    "p <- p + geom_point(data = coordinates, aes(x=lon, y=lat, size=(N)), shape=16, color = \"red\") \n",
    "invisible(ggplot_build(p))\n",
    "ggsave(\"delpher_map.png\")"
   ]
  },
  {
   "cell_type": "markdown",
   "id": "0dbce77b",
   "metadata": {},
   "source": [
    "---------------------------------------------------------------------------------------------------------------------------\n",
    "<center><b><h3>  And here we have our results:<\\center><\\b><\\h3>"
   ]
  },
  {
   "cell_type": "markdown",
   "id": "dd692e27",
   "metadata": {},
   "source": [
    "[<img src=\"delpher_map.png\" width=\"850\"/>](delpher_map.png)"
   ]
  },
  {
   "cell_type": "markdown",
   "id": "28eff8fa",
   "metadata": {},
   "source": [
    "*For questions and comments email <r.schalk@uu.nl>"
   ]
  }
 ],
 "metadata": {
  "kernelspec": {
   "display_name": "R",
   "language": "R",
   "name": "ir"
  },
  "language_info": {
   "codemirror_mode": "r",
   "file_extension": ".r",
   "mimetype": "text/x-r-source",
   "name": "R",
   "pygments_lexer": "r",
   "version": "4.1.1"
  }
 },
 "nbformat": 4,
 "nbformat_minor": 5
}
